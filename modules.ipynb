{
 "cells": [
  {
   "cell_type": "code",
   "execution_count": 1,
   "metadata": {
    "collapsed": true
   },
   "outputs": [
    {
     "data": {
      "text/plain": "['__breakpointhook__',\n '__displayhook__',\n '__doc__',\n '__excepthook__',\n '__interactivehook__',\n '__loader__',\n '__name__',\n '__package__',\n '__spec__',\n '__stderr__',\n '__stdin__',\n '__stdout__',\n '__unraisablehook__',\n '_base_executable',\n '_clear_type_cache',\n '_current_frames',\n '_debugmallocstats',\n '_enablelegacywindowsfsencoding',\n '_framework',\n '_getframe',\n '_git',\n '_home',\n '_xoptions',\n 'addaudithook',\n 'api_version',\n 'argv',\n 'audit',\n 'base_exec_prefix',\n 'base_prefix',\n 'breakpointhook',\n 'builtin_module_names',\n 'byteorder',\n 'call_tracing',\n 'callstats',\n 'copyright',\n 'displayhook',\n 'dllhandle',\n 'dont_write_bytecode',\n 'exc_info',\n 'excepthook',\n 'exec_prefix',\n 'executable',\n 'exit',\n 'flags',\n 'float_info',\n 'float_repr_style',\n 'get_asyncgen_hooks',\n 'get_coroutine_origin_tracking_depth',\n 'getallocatedblocks',\n 'getcheckinterval',\n 'getdefaultencoding',\n 'getfilesystemencodeerrors',\n 'getfilesystemencoding',\n 'getprofile',\n 'getrecursionlimit',\n 'getrefcount',\n 'getsizeof',\n 'getswitchinterval',\n 'gettrace',\n 'getwindowsversion',\n 'hash_info',\n 'hexversion',\n 'implementation',\n 'int_info',\n 'intern',\n 'is_finalizing',\n 'maxsize',\n 'maxunicode',\n 'meta_path',\n 'modules',\n 'path',\n 'path_hooks',\n 'path_importer_cache',\n 'platform',\n 'prefix',\n 'ps1',\n 'ps2',\n 'ps3',\n 'pycache_prefix',\n 'set_asyncgen_hooks',\n 'set_coroutine_origin_tracking_depth',\n 'setcheckinterval',\n 'setprofile',\n 'setrecursionlimit',\n 'setswitchinterval',\n 'settrace',\n 'stderr',\n 'stdin',\n 'stdout',\n 'thread_info',\n 'unraisablehook',\n 'version',\n 'version_info',\n 'warnoptions',\n 'winver']"
     },
     "execution_count": 1,
     "metadata": {},
     "output_type": "execute_result"
    }
   ],
   "source": [
    "import sys\n",
    "\n",
    "dir(sys)"
   ]
  },
  {
   "cell_type": "code",
   "execution_count": 2,
   "outputs": [
    {
     "data": {
      "text/plain": "['C:\\\\Users\\\\nscc\\\\Documents\\\\python\\\\lecture-notes',\n 'C:\\\\Users\\\\nscc\\\\Documents\\\\python\\\\lecture-notes',\n 'c:\\\\users\\\\nscc\\\\appdata\\\\local\\\\programs\\\\python\\\\python38-32\\\\python38.zip',\n 'c:\\\\users\\\\nscc\\\\appdata\\\\local\\\\programs\\\\python\\\\python38-32\\\\DLLs',\n 'c:\\\\users\\\\nscc\\\\appdata\\\\local\\\\programs\\\\python\\\\python38-32\\\\lib',\n 'c:\\\\users\\\\nscc\\\\appdata\\\\local\\\\programs\\\\python\\\\python38-32',\n '',\n 'c:\\\\users\\\\nscc\\\\appdata\\\\local\\\\programs\\\\python\\\\python38-32\\\\lib\\\\site-packages',\n 'c:\\\\users\\\\nscc\\\\appdata\\\\local\\\\programs\\\\python\\\\python38-32\\\\lib\\\\site-packages\\\\win32',\n 'c:\\\\users\\\\nscc\\\\appdata\\\\local\\\\programs\\\\python\\\\python38-32\\\\lib\\\\site-packages\\\\win32\\\\lib',\n 'c:\\\\users\\\\nscc\\\\appdata\\\\local\\\\programs\\\\python\\\\python38-32\\\\lib\\\\site-packages\\\\Pythonwin',\n 'c:\\\\users\\\\nscc\\\\appdata\\\\local\\\\programs\\\\python\\\\python38-32\\\\lib\\\\site-packages\\\\IPython\\\\extensions',\n 'C:\\\\Users\\\\nscc\\\\.ipython',\n 'C:\\\\Users\\\\nscc\\\\AppData\\\\Local\\\\JetBrains\\\\Toolbox\\\\apps\\\\PyCharm-P\\\\ch-0\\\\202.7660.27\\\\plugins\\\\python\\\\helpers\\\\pydev',\n 'C:\\\\Users\\\\nscc\\\\AppData\\\\Local\\\\JetBrains\\\\Toolbox\\\\apps\\\\PyCharm-P\\\\ch-0\\\\202.7660.27\\\\plugins\\\\python\\\\helpers-pro\\\\jupyter_debug']"
     },
     "execution_count": 2,
     "metadata": {},
     "output_type": "execute_result"
    }
   ],
   "source": [
    "sys.path"
   ],
   "metadata": {
    "collapsed": false,
    "pycharm": {
     "name": "#%%\n"
    }
   }
  },
  {
   "cell_type": "code",
   "execution_count": 3,
   "outputs": [
    {
     "data": {
      "text/plain": "['C:\\\\Users\\\\nscc\\\\Documents\\\\python\\\\lecture-notes',\n 'C:\\\\Users\\\\nscc\\\\Documents\\\\python\\\\lecture-notes',\n 'c:\\\\users\\\\nscc\\\\appdata\\\\local\\\\programs\\\\python\\\\python38-32\\\\python38.zip',\n 'c:\\\\users\\\\nscc\\\\appdata\\\\local\\\\programs\\\\python\\\\python38-32\\\\DLLs',\n 'c:\\\\users\\\\nscc\\\\appdata\\\\local\\\\programs\\\\python\\\\python38-32\\\\lib',\n 'c:\\\\users\\\\nscc\\\\appdata\\\\local\\\\programs\\\\python\\\\python38-32',\n '',\n 'c:\\\\users\\\\nscc\\\\appdata\\\\local\\\\programs\\\\python\\\\python38-32\\\\lib\\\\site-packages',\n 'c:\\\\users\\\\nscc\\\\appdata\\\\local\\\\programs\\\\python\\\\python38-32\\\\lib\\\\site-packages\\\\win32',\n 'c:\\\\users\\\\nscc\\\\appdata\\\\local\\\\programs\\\\python\\\\python38-32\\\\lib\\\\site-packages\\\\win32\\\\lib',\n 'c:\\\\users\\\\nscc\\\\appdata\\\\local\\\\programs\\\\python\\\\python38-32\\\\lib\\\\site-packages\\\\Pythonwin',\n 'c:\\\\users\\\\nscc\\\\appdata\\\\local\\\\programs\\\\python\\\\python38-32\\\\lib\\\\site-packages\\\\IPython\\\\extensions',\n 'C:\\\\Users\\\\nscc\\\\.ipython',\n 'C:\\\\Users\\\\nscc\\\\AppData\\\\Local\\\\JetBrains\\\\Toolbox\\\\apps\\\\PyCharm-P\\\\ch-0\\\\202.7660.27\\\\plugins\\\\python\\\\helpers\\\\pydev',\n 'C:\\\\Users\\\\nscc\\\\AppData\\\\Local\\\\JetBrains\\\\Toolbox\\\\apps\\\\PyCharm-P\\\\ch-0\\\\202.7660.27\\\\plugins\\\\python\\\\helpers-pro\\\\jupyter_debug']"
     },
     "execution_count": 3,
     "metadata": {},
     "output_type": "execute_result"
    }
   ],
   "source": [
    "import sys as s\n",
    "s.path"
   ],
   "metadata": {
    "collapsed": false,
    "pycharm": {
     "name": "#%%\n"
    }
   }
  },
  {
   "cell_type": "code",
   "execution_count": 4,
   "outputs": [
    {
     "data": {
      "text/plain": "['C:\\\\Users\\\\nscc\\\\Documents\\\\python\\\\lecture-notes',\n 'C:\\\\Users\\\\nscc\\\\Documents\\\\python\\\\lecture-notes',\n 'c:\\\\users\\\\nscc\\\\appdata\\\\local\\\\programs\\\\python\\\\python38-32\\\\python38.zip',\n 'c:\\\\users\\\\nscc\\\\appdata\\\\local\\\\programs\\\\python\\\\python38-32\\\\DLLs',\n 'c:\\\\users\\\\nscc\\\\appdata\\\\local\\\\programs\\\\python\\\\python38-32\\\\lib',\n 'c:\\\\users\\\\nscc\\\\appdata\\\\local\\\\programs\\\\python\\\\python38-32',\n '',\n 'c:\\\\users\\\\nscc\\\\appdata\\\\local\\\\programs\\\\python\\\\python38-32\\\\lib\\\\site-packages',\n 'c:\\\\users\\\\nscc\\\\appdata\\\\local\\\\programs\\\\python\\\\python38-32\\\\lib\\\\site-packages\\\\win32',\n 'c:\\\\users\\\\nscc\\\\appdata\\\\local\\\\programs\\\\python\\\\python38-32\\\\lib\\\\site-packages\\\\win32\\\\lib',\n 'c:\\\\users\\\\nscc\\\\appdata\\\\local\\\\programs\\\\python\\\\python38-32\\\\lib\\\\site-packages\\\\Pythonwin',\n 'c:\\\\users\\\\nscc\\\\appdata\\\\local\\\\programs\\\\python\\\\python38-32\\\\lib\\\\site-packages\\\\IPython\\\\extensions',\n 'C:\\\\Users\\\\nscc\\\\.ipython',\n 'C:\\\\Users\\\\nscc\\\\AppData\\\\Local\\\\JetBrains\\\\Toolbox\\\\apps\\\\PyCharm-P\\\\ch-0\\\\202.7660.27\\\\plugins\\\\python\\\\helpers\\\\pydev',\n 'C:\\\\Users\\\\nscc\\\\AppData\\\\Local\\\\JetBrains\\\\Toolbox\\\\apps\\\\PyCharm-P\\\\ch-0\\\\202.7660.27\\\\plugins\\\\python\\\\helpers-pro\\\\jupyter_debug']"
     },
     "execution_count": 4,
     "metadata": {},
     "output_type": "execute_result"
    }
   ],
   "source": [
    "from sys import path\n",
    "sys.path"
   ],
   "metadata": {
    "collapsed": false,
    "pycharm": {
     "name": "#%%\n"
    }
   }
  },
  {
   "cell_type": "code",
   "execution_count": 6,
   "outputs": [
    {
     "data": {
      "text/plain": "['C:\\\\Users\\\\nscc\\\\Documents\\\\python\\\\lecture-notes',\n 'C:\\\\Users\\\\nscc\\\\Documents\\\\python\\\\lecture-notes',\n 'c:\\\\users\\\\nscc\\\\appdata\\\\local\\\\programs\\\\python\\\\python38-32\\\\python38.zip',\n 'c:\\\\users\\\\nscc\\\\appdata\\\\local\\\\programs\\\\python\\\\python38-32\\\\DLLs',\n 'c:\\\\users\\\\nscc\\\\appdata\\\\local\\\\programs\\\\python\\\\python38-32\\\\lib',\n 'c:\\\\users\\\\nscc\\\\appdata\\\\local\\\\programs\\\\python\\\\python38-32',\n '',\n 'c:\\\\users\\\\nscc\\\\appdata\\\\local\\\\programs\\\\python\\\\python38-32\\\\lib\\\\site-packages',\n 'c:\\\\users\\\\nscc\\\\appdata\\\\local\\\\programs\\\\python\\\\python38-32\\\\lib\\\\site-packages\\\\win32',\n 'c:\\\\users\\\\nscc\\\\appdata\\\\local\\\\programs\\\\python\\\\python38-32\\\\lib\\\\site-packages\\\\win32\\\\lib',\n 'c:\\\\users\\\\nscc\\\\appdata\\\\local\\\\programs\\\\python\\\\python38-32\\\\lib\\\\site-packages\\\\Pythonwin',\n 'c:\\\\users\\\\nscc\\\\appdata\\\\local\\\\programs\\\\python\\\\python38-32\\\\lib\\\\site-packages\\\\IPython\\\\extensions',\n 'C:\\\\Users\\\\nscc\\\\.ipython',\n 'C:\\\\Users\\\\nscc\\\\AppData\\\\Local\\\\JetBrains\\\\Toolbox\\\\apps\\\\PyCharm-P\\\\ch-0\\\\202.7660.27\\\\plugins\\\\python\\\\helpers\\\\pydev',\n 'C:\\\\Users\\\\nscc\\\\AppData\\\\Local\\\\JetBrains\\\\Toolbox\\\\apps\\\\PyCharm-P\\\\ch-0\\\\202.7660.27\\\\plugins\\\\python\\\\helpers-pro\\\\jupyter_debug']"
     },
     "execution_count": 6,
     "metadata": {},
     "output_type": "execute_result"
    }
   ],
   "source": [
    "from sys import path as p\n",
    "p"
   ],
   "metadata": {
    "collapsed": false,
    "pycharm": {
     "name": "#%%\n"
    }
   }
  },
  {
   "cell_type": "code",
   "execution_count": null,
   "outputs": [],
   "source": [],
   "metadata": {
    "collapsed": false,
    "pycharm": {
     "name": "#%%\n"
    }
   }
  }
 ],
 "metadata": {
  "kernelspec": {
   "display_name": "Python 3",
   "language": "python",
   "name": "python3"
  },
  "language_info": {
   "codemirror_mode": {
    "name": "ipython",
    "version": 2
   },
   "file_extension": ".py",
   "mimetype": "text/x-python",
   "name": "python",
   "nbconvert_exporter": "python",
   "pygments_lexer": "ipython2",
   "version": "2.7.6"
  }
 },
 "nbformat": 4,
 "nbformat_minor": 0
}