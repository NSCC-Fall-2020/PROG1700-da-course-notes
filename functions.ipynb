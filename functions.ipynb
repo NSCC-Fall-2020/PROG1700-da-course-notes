{
 "cells": [
  {
   "cell_type": "code",
   "execution_count": 4,
   "metadata": {
    "collapsed": true
   },
   "outputs": [
    {
     "name": "stdout",
     "output_type": "stream",
     "text": [
      "Hello, World!\n",
      "Hello, Again!\n",
      "Hello, one more time!\n"
     ]
    }
   ],
   "source": [
    "def hello(phrase):\n",
    "    print(\"Hello, \" + phrase)\n",
    "\n",
    "hello(\"World!\")\n",
    "hello(\"Again!\")\n",
    "hello(\"one more time!\")"
   ]
  },
  {
   "cell_type": "code",
   "execution_count": 6,
   "outputs": [
    {
     "name": "stdout",
     "output_type": "stream",
     "text": [
      "8\n",
      "16\n",
      "6\n",
      "num1 = 1, num2 = 2\n"
     ]
    }
   ],
   "source": [
    "def add_two_numbers(a,b):\n",
    "    a = a + 1\n",
    "    b = b + 2\n",
    "    return a + b\n",
    "\n",
    "a = 1\n",
    "b = 2\n",
    "sum = a + b\n",
    "\n",
    "sum = add_two_numbers(1,2)\n",
    "print(add_two_numbers(2,3))\n",
    "sum = add_two_numbers(1,2) + add_two_numbers(3,4)\n",
    "print(sum)\n",
    "\n",
    "num1 = 1\n",
    "num2 = 2\n",
    "sum = add_two_numbers(num1, num2)\n",
    "print(sum)\n",
    "print(f\"num1 = {num1}, num2 = {num2}\")"
   ],
   "metadata": {
    "collapsed": false,
    "pycharm": {
     "name": "#%%\n"
    }
   }
  },
  {
   "cell_type": "code",
   "execution_count": 8,
   "outputs": [
    {
     "name": "stdout",
     "output_type": "stream",
     "text": [
      "count = 1\n"
     ]
    }
   ],
   "source": [
    "count = 0\n",
    "\n",
    "def add_one_to_count():\n",
    "    global count\n",
    "    count = count + 1\n",
    "\n",
    "add_one_to_count()\n",
    "print(f\"count = {count}\")"
   ],
   "metadata": {
    "collapsed": false,
    "pycharm": {
     "name": "#%%\n"
    }
   }
  },
  {
   "cell_type": "code",
   "execution_count": 12,
   "outputs": [
    {
     "name": "stdout",
     "output_type": "stream",
     "text": [
      "Hello, World.\n",
      "Hello, World.\n",
      "apple banana crayon\n"
     ]
    }
   ],
   "source": [
    "def combine_strings(str1, str2, str3=\"\"):\n",
    "    return str1 + str2 + str3\n",
    "\n",
    "print(combine_strings(\"Hello, \", \"World.\"))\n",
    "\n",
    "# using \"keyword arguments\"\n",
    "print(combine_strings(str2=\"World.\", str1=\"Hello, \"))\n",
    "\n",
    "# use optional argument\n",
    "print(combine_strings(\"apple \", \"banana \", \"crayon\"))\n"
   ],
   "metadata": {
    "collapsed": false,
    "pycharm": {
     "name": "#%%\n"
    }
   }
  },
  {
   "cell_type": "code",
   "execution_count": 14,
   "outputs": [
    {
     "name": "stdout",
     "output_type": "stream",
     "text": [
      "3\n",
      "91\n"
     ]
    }
   ],
   "source": [
    "# to use an unknown number of parameters\n",
    "def add_a_bunch_o_numbers(numbers):\n",
    "    sum = 0\n",
    "    for n in numbers:\n",
    "        sum += n\n",
    "    return sum\n",
    "\n",
    "print(add_a_bunch_o_numbers((1, 2)))\n",
    "\n",
    "print(add_a_bunch_o_numbers((1, 2, 3, 4, 5, 6, 7, 8, 9, 10, 11, 12, 13)))"
   ],
   "metadata": {
    "collapsed": false,
    "pycharm": {
     "name": "#%%\n"
    }
   }
  },
  {
   "cell_type": "code",
   "execution_count": 15,
   "outputs": [
    {
     "name": "stdout",
     "output_type": "stream",
     "text": [
      "3\n",
      "91\n"
     ]
    }
   ],
   "source": [
    "# to use an unknown number of parameters\n",
    "def add_a_bunch_o_numbers(*numbers):\n",
    "    sum = 0\n",
    "    for n in numbers:\n",
    "        sum += n\n",
    "    return sum\n",
    "\n",
    "print(add_a_bunch_o_numbers(1, 2))\n",
    "\n",
    "print(add_a_bunch_o_numbers(1, 2, 3, 4, 5, 6, 7, 8, 9, 10, 11, 12, 13))"
   ],
   "metadata": {
    "collapsed": false,
    "pycharm": {
     "name": "#%%\n"
    }
   }
  },
  {
   "cell_type": "code",
   "execution_count": 17,
   "outputs": [
    {
     "ename": "TypeError",
     "evalue": "'int' object is not callable",
     "output_type": "error",
     "traceback": [
      "\u001B[1;31m---------------------------------------------------------------------------\u001B[0m",
      "\u001B[1;31mTypeError\u001B[0m                                 Traceback (most recent call last)",
      "\u001B[1;32m<ipython-input-17-ee5e87d80452>\u001B[0m in \u001B[0;36m<module>\u001B[1;34m\u001B[0m\n\u001B[0;32m      3\u001B[0m     \u001B[1;32mreturn\u001B[0m \u001B[0msum\u001B[0m\u001B[1;33m(\u001B[0m\u001B[0mnumbers\u001B[0m\u001B[1;33m)\u001B[0m\u001B[1;33m\u001B[0m\u001B[1;33m\u001B[0m\u001B[0m\n\u001B[0;32m      4\u001B[0m \u001B[1;33m\u001B[0m\u001B[0m\n\u001B[1;32m----> 5\u001B[1;33m \u001B[0mprint\u001B[0m\u001B[1;33m(\u001B[0m\u001B[0madd_a_bunch_o_numbers\u001B[0m\u001B[1;33m(\u001B[0m\u001B[1;33m(\u001B[0m\u001B[1;36m1\u001B[0m\u001B[1;33m,\u001B[0m \u001B[1;36m2\u001B[0m\u001B[1;33m)\u001B[0m\u001B[1;33m)\u001B[0m\u001B[1;33m)\u001B[0m\u001B[1;33m\u001B[0m\u001B[1;33m\u001B[0m\u001B[0m\n\u001B[0m\u001B[0;32m      6\u001B[0m \u001B[1;33m\u001B[0m\u001B[0m\n\u001B[0;32m      7\u001B[0m \u001B[0mprint\u001B[0m\u001B[1;33m(\u001B[0m\u001B[0madd_a_bunch_o_numbers\u001B[0m\u001B[1;33m(\u001B[0m\u001B[1;33m(\u001B[0m\u001B[1;36m1\u001B[0m\u001B[1;33m,\u001B[0m \u001B[1;36m2\u001B[0m\u001B[1;33m,\u001B[0m \u001B[1;36m3\u001B[0m\u001B[1;33m,\u001B[0m \u001B[1;36m4\u001B[0m\u001B[1;33m,\u001B[0m \u001B[1;36m5\u001B[0m\u001B[1;33m,\u001B[0m \u001B[1;36m6\u001B[0m\u001B[1;33m,\u001B[0m \u001B[1;36m7\u001B[0m\u001B[1;33m,\u001B[0m \u001B[1;36m8\u001B[0m\u001B[1;33m,\u001B[0m \u001B[1;36m9\u001B[0m\u001B[1;33m,\u001B[0m \u001B[1;36m10\u001B[0m\u001B[1;33m,\u001B[0m \u001B[1;36m11\u001B[0m\u001B[1;33m,\u001B[0m \u001B[1;36m12\u001B[0m\u001B[1;33m,\u001B[0m \u001B[1;36m13\u001B[0m\u001B[1;33m)\u001B[0m\u001B[1;33m)\u001B[0m\u001B[1;33m)\u001B[0m\u001B[1;33m\u001B[0m\u001B[1;33m\u001B[0m\u001B[0m\n",
      "\u001B[1;32m<ipython-input-17-ee5e87d80452>\u001B[0m in \u001B[0;36madd_a_bunch_o_numbers\u001B[1;34m(numbers)\u001B[0m\n\u001B[0;32m      1\u001B[0m \u001B[1;31m# to use an unknown number of parameters\u001B[0m\u001B[1;33m\u001B[0m\u001B[1;33m\u001B[0m\u001B[1;33m\u001B[0m\u001B[0m\n\u001B[0;32m      2\u001B[0m \u001B[1;32mdef\u001B[0m \u001B[0madd_a_bunch_o_numbers\u001B[0m\u001B[1;33m(\u001B[0m\u001B[0mnumbers\u001B[0m\u001B[1;33m)\u001B[0m\u001B[1;33m:\u001B[0m\u001B[1;33m\u001B[0m\u001B[1;33m\u001B[0m\u001B[0m\n\u001B[1;32m----> 3\u001B[1;33m     \u001B[1;32mreturn\u001B[0m \u001B[0msum\u001B[0m\u001B[1;33m(\u001B[0m\u001B[0mnumbers\u001B[0m\u001B[1;33m)\u001B[0m\u001B[1;33m\u001B[0m\u001B[1;33m\u001B[0m\u001B[0m\n\u001B[0m\u001B[0;32m      4\u001B[0m \u001B[1;33m\u001B[0m\u001B[0m\n\u001B[0;32m      5\u001B[0m \u001B[0mprint\u001B[0m\u001B[1;33m(\u001B[0m\u001B[0madd_a_bunch_o_numbers\u001B[0m\u001B[1;33m(\u001B[0m\u001B[1;33m(\u001B[0m\u001B[1;36m1\u001B[0m\u001B[1;33m,\u001B[0m \u001B[1;36m2\u001B[0m\u001B[1;33m)\u001B[0m\u001B[1;33m)\u001B[0m\u001B[1;33m)\u001B[0m\u001B[1;33m\u001B[0m\u001B[1;33m\u001B[0m\u001B[0m\n",
      "\u001B[1;31mTypeError\u001B[0m: 'int' object is not callable"
     ]
    }
   ],
   "source": [
    "# to use an unknown number of parameters\n",
    "def add_a_bunch_o_numbers(numbers):\n",
    "    return sum(numbers[1:2])\n",
    "\n",
    "print(add_a_bunch_o_numbers((1, 2)))\n",
    "\n",
    "print(add_a_bunch_o_numbers((1, 2, 3, 4, 5, 6, 7, 8, 9, 10, 11, 12, 13)))"
   ],
   "metadata": {
    "collapsed": false,
    "pycharm": {
     "name": "#%%\n"
    }
   }
  },
  {
   "cell_type": "code",
   "execution_count": 19,
   "outputs": [
    {
     "name": "stdout",
     "output_type": "stream",
     "text": [
      "24\n",
      "24\n"
     ]
    }
   ],
   "source": [
    "def multiply_numbers(a, b, c, d):\n",
    "    return a * b * c * d\n",
    "\n",
    "print(multiply_numbers(1, 2, 3, 4))\n",
    "\n",
    "print(multiply_numbers(*[1, 2, 3, 4]))"
   ],
   "metadata": {
    "collapsed": false,
    "pycharm": {
     "name": "#%%\n"
    }
   }
  },
  {
   "cell_type": "code",
   "execution_count": 21,
   "outputs": [
    {
     "name": "stdout",
     "output_type": "stream",
     "text": [
      "Hello, World!\n"
     ]
    }
   ],
   "source": [
    "def combine_strings(str1, str2, str3=\"\"):\n",
    "    return str1 + str2 + str3\n",
    "\n",
    "print(combine_strings(**{'str1':\"Hello, \", 'str2': \"World!\"}))"
   ],
   "metadata": {
    "collapsed": false,
    "pycharm": {
     "name": "#%%\n"
    }
   }
  },
  {
   "cell_type": "code",
   "execution_count": 23,
   "outputs": [
    {
     "name": "stdout",
     "output_type": "stream",
     "text": [
      "key=a, value=1\n",
      "key=b, value=2\n",
      "key=c, value=3\n"
     ]
    }
   ],
   "source": [
    "def configure_application(**kwargs):\n",
    "    for k,v in kwargs.items():\n",
    "        print(f\"key={k}, value={v}\")\n",
    "\n",
    "dict = {'a':1, 'b':2, 'c':3}\n",
    "\n",
    "configure_application(**dict)"
   ],
   "metadata": {
    "collapsed": false,
    "pycharm": {
     "name": "#%%\n"
    }
   }
  },
  {
   "cell_type": "code",
   "execution_count": 27,
   "outputs": [
    {
     "name": "stdout",
     "output_type": "stream",
     "text": [
      "('John Smith', 1234, 123.45)\n",
      "John Smith\n",
      "1234\n",
      "123.45\n"
     ]
    }
   ],
   "source": [
    "def get_info():\n",
    "    return \"John Smith\", 1234, 123.45\n",
    "print(get_info())\n",
    "for v in get_info():\n",
    "    print(v)"
   ],
   "metadata": {
    "collapsed": false,
    "pycharm": {
     "name": "#%%\n"
    }
   }
  },
  {
   "cell_type": "code",
   "execution_count": 26,
   "outputs": [
    {
     "name": "stdout",
     "output_type": "stream",
     "text": [
      "('John Smith', 32, '123 Somewhere Dr')\n"
     ]
    }
   ],
   "source": [
    "def get_input():\n",
    "    name = input(\"Enter your name: \")\n",
    "    age = int(input(\"Enter your age: \"))\n",
    "    address = input(\"Enter your address: \")\n",
    "    return name, age, address\n",
    "\n",
    "print(get_input())"
   ],
   "metadata": {
    "collapsed": false,
    "pycharm": {
     "name": "#%%\n"
    }
   }
  },
  {
   "cell_type": "code",
   "execution_count": null,
   "outputs": [],
   "source": [],
   "metadata": {
    "collapsed": false,
    "pycharm": {
     "name": "#%%\n"
    }
   }
  }
 ],
 "metadata": {
  "kernelspec": {
   "display_name": "Python 3",
   "language": "python",
   "name": "python3"
  },
  "language_info": {
   "codemirror_mode": {
    "name": "ipython",
    "version": 2
   },
   "file_extension": ".py",
   "mimetype": "text/x-python",
   "name": "python",
   "nbconvert_exporter": "python",
   "pygments_lexer": "ipython2",
   "version": "2.7.6"
  }
 },
 "nbformat": 4,
 "nbformat_minor": 0
}