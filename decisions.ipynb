{
 "cells": [
  {
   "cell_type": "code",
   "execution_count": 1,
   "metadata": {},
   "outputs": [
    {
     "name": "stdout",
     "output_type": "stream",
     "text": [
      "You'll see this if the condition is True.\n"
     ]
    }
   ],
   "source": [
    "if True:\n",
    "    print(\"You'll see this if the condition is True.\")"
   ]
  },
  {
   "cell_type": "code",
   "execution_count": 2,
   "metadata": {},
   "outputs": [],
   "source": [
    "if False:\n",
    "    print(\"You won't see this though!\")\n"
   ]
  },
  {
   "cell_type": "code",
   "execution_count": 3,
   "metadata": {},
   "outputs": [
    {
     "name": "stdout",
     "output_type": "stream",
     "text": [
      "3 > 2!\n"
     ]
    }
   ],
   "source": [
    "if 3 > 2:\n",
    "    print(\"3 > 2!\")"
   ]
  },
  {
   "cell_type": "code",
   "execution_count": 4,
   "metadata": {},
   "outputs": [],
   "source": [
    "if 3 < 2:\n",
    "    print(\"3 < 2!\")"
   ]
  },
  {
   "cell_type": "code",
   "execution_count": 7,
   "metadata": {},
   "outputs": [],
   "source": [
    "x = 1\n",
    "if x == 2 or x == 3:\n",
    "    print(\"valid!\")"
   ]
  },
  {
   "cell_type": "code",
   "execution_count": 8,
   "metadata": {},
   "outputs": [
    {
     "name": "stdout",
     "output_type": "stream",
     "text": [
      "Wait...you're not Ted!!!\n"
     ]
    }
   ],
   "source": [
    "name = \"Bob\"\n",
    "if name != \"Ted\":\n",
    "    print(\"Wait...you're not Ted!!!\")"
   ]
  },
  {
   "cell_type": "code",
   "execution_count": 11,
   "metadata": {},
   "outputs": [],
   "source": [
    "salary = 1_000_000\n",
    "if salary > 1_000_000:\n",
    "    print(\"You're off to Disney World!\")\n",
    "if salary < 1_000_000:\n",
    "    print(\"Back to work for you...\")"
   ]
  },
  {
   "cell_type": "code",
   "execution_count": 12,
   "metadata": {},
   "outputs": [
    {
     "name": "stdout",
     "output_type": "stream",
     "text": [
      "Loser!\n"
     ]
    }
   ],
   "source": [
    "salary = 1_000_000\n",
    "if salary > 1_000_000:\n",
    "    print(\"Winner!\")\n",
    "else:\n",
    "    print(\"Loser!\")"
   ]
  },
  {
   "cell_type": "code",
   "execution_count": 14,
   "metadata": {},
   "outputs": [
    {
     "name": "stdin",
     "output_type": "stream",
     "text": [
      "Enter your password:  topsecret\n"
     ]
    },
    {
     "name": "stdout",
     "output_type": "stream",
     "text": [
      "You have FULL ACCESS!\n"
     ]
    }
   ],
   "source": [
    "password = input(\"Enter your password: \")\n",
    "if password == \"topsecret\":\n",
    "    print(\"You have FULL ACCESS!\")\n",
    "else:\n",
    "    print(\"DENIED!\")"
   ]
  },
  {
   "cell_type": "markdown",
   "metadata": {},
   "source": [
    "* Demonstrates the use of an IF/ELSE-IF statement"
   ]
  },
  {
   "cell_type": "code",
   "execution_count": 16,
   "metadata": {},
   "outputs": [
    {
     "name": "stdout",
     "output_type": "stream",
     "text": [
      "Full Version\n"
     ]
    }
   ],
   "source": [
    "product_key = \"ABCF-12345\"\n",
    "# check to see what version the product key is\n",
    "if product_key < \"ABCE\":\n",
    "    print(\"Trial Version!\")\n",
    "elif product_key < \"ABCF\":\n",
    "    print(\"Community Edition\")\n",
    "else:\n",
    "    print(\"Full Version\")"
   ]
  },
  {
   "cell_type": "markdown",
   "metadata": {},
   "source": [
    "1 = I, 2 = II, 3 = III, 4 = IV, 5 = V, 6 = VI, 7 = VII, 8 = VIII, 9 = IX, 10 = X"
   ]
  },
  {
   "cell_type": "code",
   "execution_count": 30,
   "metadata": {},
   "outputs": [
    {
     "name": "stdin",
     "output_type": "stream",
     "text": [
      "Enter a number:  3\n"
     ]
    },
    {
     "name": "stdout",
     "output_type": "stream",
     "text": [
      "III\n"
     ]
    }
   ],
   "source": [
    "# create a program that takes a user's input (1-10)\n",
    "# and output the Roman Numeral equivalent\n",
    "number_input = input(\"Enter a number: \")\n",
    "if number_input >= \"0\" and number_input <= \"9\":\n",
    "    number = int(number_input)\n",
    "    if number == 1 or number == 2 or number == 3:\n",
    "        print(\"I\", end='')\n",
    "        if number == 2 or number == 3:\n",
    "            print(\"I\", end='')\n",
    "            if number == 3:\n",
    "                print(\"I\")\n",
    "    elif number == 4:\n",
    "        print(\"IV\")\n",
    "    elif number == 5:\n",
    "        print(\"V\")\n",
    "    elif number == 6:\n",
    "        print(\"VI\")\n",
    "    elif number == 7:\n",
    "        print(\"VII\")\n",
    "    elif number == 8:\n",
    "        print(\"VIII\")\n",
    "    elif number == 9:\n",
    "        print(\"IX\")\n",
    "    elif number == 10:\n",
    "        print(\"X\")\n",
    "    else:\n",
    "        print(\"Invalid Input\")\n",
    "else:\n",
    "    print(\"Valid input is only 1-10.\")"
   ]
  },
  {
   "cell_type": "code",
   "execution_count": null,
   "metadata": {},
   "outputs": [],
   "source": [
    "# colour mixer\n",
    "# user enters in two primar y colours and the program outputs the mix of the two colours\n",
    "# if the user types in an invalid colour, the program will print an error"
   ]
  }
 ],
 "metadata": {
  "kernelspec": {
   "display_name": "Python 3",
   "language": "python",
   "name": "python3"
  },
  "language_info": {
   "codemirror_mode": {
    "name": "ipython",
    "version": 3
   },
   "file_extension": ".py",
   "mimetype": "text/x-python",
   "name": "python",
   "nbconvert_exporter": "python",
   "pygments_lexer": "ipython3",
   "version": "3.8.5"
  }
 },
 "nbformat": 4,
 "nbformat_minor": 4
}
