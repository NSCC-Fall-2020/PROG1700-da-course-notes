{
 "cells": [
  {
   "cell_type": "code",
   "execution_count": 11,
   "metadata": {},
   "outputs": [
    {
     "name": "stdout",
     "output_type": "stream",
     "text": [
      "    o\n",
      "   oo\n",
      "  ooo\n",
      " oooo\n",
      "ooooo\n"
     ]
    }
   ],
   "source": [
    "# draw a right-angle triangle\n",
    "#\n",
    "#     o\n",
    "#    oo\n",
    "#   ooo\n",
    "#  oooo\n",
    "# ooooo\n",
    "\n",
    "for row in range(1,6):\n",
    "    for spaces in range(5-row):\n",
    "        print(\" \", end='')\n",
    "    for col in range(row):\n",
    "        print(\"o\", end='')\n",
    "    print()"
   ]
  },
  {
   "cell_type": "code",
   "execution_count": null,
   "metadata": {},
   "outputs": [],
   "source": []
  }
 ],
 "metadata": {
  "kernelspec": {
   "display_name": "Python 3",
   "language": "python",
   "name": "python3"
  },
  "language_info": {
   "codemirror_mode": {
    "name": "ipython",
    "version": 3
   },
   "file_extension": ".py",
   "mimetype": "text/x-python",
   "name": "python",
   "nbconvert_exporter": "python",
   "pygments_lexer": "ipython3",
   "version": "3.8.5"
  }
 },
 "nbformat": 4,
 "nbformat_minor": 4
}
