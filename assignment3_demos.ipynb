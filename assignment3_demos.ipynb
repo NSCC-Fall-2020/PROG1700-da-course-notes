{
 "cells": [
  {
   "cell_type": "code",
   "execution_count": 3,
   "metadata": {
    "collapsed": true
   },
   "outputs": [
    {
     "ename": "TypeError",
     "evalue": "'list' object cannot be interpreted as an integer",
     "output_type": "error",
     "traceback": [
      "\u001B[1;31m---------------------------------------------------------------------------\u001B[0m",
      "\u001B[1;31mTypeError\u001B[0m                                 Traceback (most recent call last)",
      "\u001B[1;32m<ipython-input-3-db7f8bc143e5>\u001B[0m in \u001B[0;36m<module>\u001B[1;34m\u001B[0m\n\u001B[0;32m      2\u001B[0m \u001B[0mlist\u001B[0m \u001B[1;33m=\u001B[0m \u001B[0mparagraph\u001B[0m\u001B[1;33m.\u001B[0m\u001B[0msplit\u001B[0m\u001B[1;33m(\u001B[0m\u001B[1;34m'.'\u001B[0m\u001B[1;33m)\u001B[0m\u001B[1;33m\u001B[0m\u001B[1;33m\u001B[0m\u001B[0m\n\u001B[0;32m      3\u001B[0m \u001B[1;33m\u001B[0m\u001B[0m\n\u001B[1;32m----> 4\u001B[1;33m \u001B[1;32mfor\u001B[0m \u001B[0mi\u001B[0m \u001B[1;32min\u001B[0m \u001B[0mlen\u001B[0m\u001B[1;33m(\u001B[0m\u001B[0mrange\u001B[0m\u001B[1;33m(\u001B[0m\u001B[0mlist\u001B[0m\u001B[1;33m)\u001B[0m\u001B[1;33m)\u001B[0m\u001B[1;33m:\u001B[0m\u001B[1;33m\u001B[0m\u001B[1;33m\u001B[0m\u001B[0m\n\u001B[0m\u001B[0;32m      5\u001B[0m     \u001B[0mlist\u001B[0m\u001B[1;33m[\u001B[0m\u001B[0mi\u001B[0m\u001B[1;33m]\u001B[0m \u001B[1;33m=\u001B[0m \u001B[0mlist\u001B[0m\u001B[1;33m[\u001B[0m\u001B[0mi\u001B[0m\u001B[1;33m]\u001B[0m\u001B[1;33m[\u001B[0m\u001B[1;36m1\u001B[0m\u001B[1;33m:\u001B[0m\u001B[1;33m]\u001B[0m\u001B[1;33m\u001B[0m\u001B[1;33m\u001B[0m\u001B[0m\n\u001B[0;32m      6\u001B[0m \u001B[1;33m\u001B[0m\u001B[0m\n",
      "\u001B[1;31mTypeError\u001B[0m: 'list' object cannot be interpreted as an integer"
     ]
    }
   ],
   "source": [
    "paragraph = \"\\nFirst sentence.\\nSecond sentence.\\n\"\n",
    "list = paragraph.split('.')\n",
    "\n",
    "for i in len(range(list)):\n",
    "    list[i] = list[i][1:]"
   ]
  },
  {
   "cell_type": "code",
   "execution_count": 7,
   "outputs": [
    {
     "name": "stdout",
     "output_type": "stream",
     "text": [
      "\n",
      "First sentence.\n",
      "Second sentence.\n",
      "\n"
     ]
    }
   ],
   "source": [
    "paragraph = \"\"\"\n",
    "First sentence.\n",
    "Second sentence.\n",
    ".\n",
    "\"\"\"\n",
    "print(paragraph[:-2])"
   ],
   "metadata": {
    "collapsed": false,
    "pycharm": {
     "name": "#%%\n"
    }
   }
  },
  {
   "cell_type": "code",
   "execution_count": 2,
   "outputs": [
    {
     "name": "stdout",
     "output_type": "stream",
     "text": [
      "Sunday\n"
     ]
    }
   ],
   "source": [
    "day = 1\n",
    "\n",
    "days_of_week = \\\n",
    "    { 1:\"Sunday\", 2:\"Monday\", 3:\"Tuesday\", 4:\"Wednesday\", 5:\"Thursday\", 6:\"Friday\", 7:\"Saturday\" }\n",
    "\n",
    "print(days_of_week[day])\n",
    "\n",
    "days_of_week = [\"Sunday\",\"Monday\",\"Tuesday\",\"Wednesday\",\"Thursday\",\"Friday\",\"Saturday\"]\n",
    "\n",
    "index = day - 1\n",
    "print(days_of_week[index])"
   ],
   "metadata": {
    "collapsed": false,
    "pycharm": {
     "name": "#%%\n"
    }
   }
  },
  {
   "cell_type": "code",
   "execution_count": 4,
   "outputs": [
    {
     "name": "stdout",
     "output_type": "stream",
     "text": [
      "Wed\n"
     ]
    }
   ],
   "source": [
    "day = 4\n",
    "lookup = \"SunMonTueWedThuFriSat\"\n",
    "\n",
    "start_index = (day-1)*3\n",
    "day_of_week = lookup[start_index:start_index+3]\n",
    "print(day_of_week)"
   ],
   "metadata": {
    "collapsed": false,
    "pycharm": {
     "name": "#%%\n"
    }
   }
  },
  {
   "cell_type": "code",
   "execution_count": 7,
   "outputs": [
    {
     "name": "stdout",
     "output_type": "stream",
     "text": [
      "original word: secret\n",
      "pig latin word: ecretsay\n"
     ]
    }
   ],
   "source": [
    "# pig latin\n",
    "# change words like \"programming\" to \"rogrammingpay\", \"nix\" to \"ixnay\", \"secret\" to \"ecretsay\"\n",
    "\n",
    "word = \"secret\"\n",
    "print(f\"original word: {word}\")\n",
    "word = word[1:] + word[0] + \"ay\"\n",
    "print(f\"pig latin word: {word}\")"
   ],
   "metadata": {
    "collapsed": false,
    "pycharm": {
     "name": "#%%\n"
    }
   }
  },
  {
   "cell_type": "code",
   "execution_count": 11,
   "outputs": [
    {
     "name": "stdout",
     "output_type": "stream",
     "text": [
      "Invalid!\n"
     ]
    }
   ],
   "source": [
    "# password verifier\n",
    "# user types in a password and verifies that the password has at least one of each of the\n",
    "# following: an uppercase letter, a lowercase letter, a digit, and a special character \"!@#$%^&*()-_={}[]\"\n",
    "# and the password must be at least 12 characters long\n",
    "# prints out \"verified\" or \"invalid\" once completed\n",
    "\n",
    "password = \"P@ssw0rd12\"\n",
    "\n",
    "# magic goes here\n",
    "valid_symbols = \"!@#$%^&*()-_={}[]\"\n",
    "\n",
    "has_uppercase = False\n",
    "has_lowercase = False\n",
    "has_digit = False\n",
    "has_character = False\n",
    "for ch in password:\n",
    "    if ch.isupper():\n",
    "        has_uppercase = True\n",
    "    if ch.islower():\n",
    "        has_lowercase = True\n",
    "    if ch.isdigit():\n",
    "        has_digit = True\n",
    "    if valid_symbols.find(ch) >= 0:\n",
    "        has_character = True\n",
    "\n",
    "length = len(password)\n",
    "\n",
    "verified = has_uppercase and has_lowercase and has_digit and has_character and (length >= 12)\n",
    "\n",
    "if (verified):\n",
    "    print(\"Verified!\")\n",
    "else:\n",
    "    print(\"Invalid!\")"
   ],
   "metadata": {
    "collapsed": false,
    "pycharm": {
     "name": "#%%\n"
    }
   }
  },
  {
   "cell_type": "code",
   "execution_count": null,
   "outputs": [],
   "source": [
    "password = input(\"Enter in your password: \")\n",
    "\n",
    "special_charscter = (\"!\",\"@\",\"#\",\"$\",\"%\",\"^\",\"&\",\"*\",\"(\",\")\",\"_\",\"-\")\n",
    "\n",
    "has_upper = False\n",
    "has_lower = False\n",
    "has_special = False\n",
    "\n",
    "for letter in password:\n",
    "\n",
    "    if letter.isupper():\n",
    "        has_upper = True\n",
    "    elif letter.islower():\n",
    "        has_lower = True\n",
    "    elif letter in special_charscter:\n",
    "        has_special = True\n",
    "\n",
    "if len(password) > 11 and has_upper and has_lower and has_special:\n",
    "    print(\"Valid\")\n",
    "else:\n",
    "    print(\"Invalid\")\n"
   ],
   "metadata": {
    "collapsed": false,
    "pycharm": {
     "name": "#%%\n"
    }
   }
  },
  {
   "cell_type": "code",
   "execution_count": 21,
   "outputs": [
    {
     "name": "stdout",
     "output_type": "stream",
     "text": [
      "player: 9\n",
      "dealer: 8\n"
     ]
    }
   ],
   "source": [
    "# Game of Blackjack\n",
    "# Deal the user two random cards and show their values (assume Ace = 11)\n",
    "\n",
    "cards = {\n",
    "    'Two of Clubs': 2,\n",
    "    'Three of Clubs': 3,\n",
    "    'Four of Clubs': 4,\n",
    "    'Five of Clubs': 5,\n",
    "    'Six of Clubs': 6,\n",
    "    'Seven of Clubs': 7,\n",
    "    'Eight of Clubs': 8,\n",
    "    'Nine of Clubs': 9,\n",
    "    'Ten of Clubs': 10,\n",
    "    'Jack of Clubs': 10,\n",
    "    'Queen of Clubs': 10,\n",
    "    'King of Clubs': 10,\n",
    "    'Ace of Clubs': 11,\n",
    "\n",
    "    'Two of Spades': 2,\n",
    "    'Three of Spades': 3,\n",
    "    'Four of Spades': 4,\n",
    "    'Five of Spades': 5,\n",
    "    'Six of Spades': 6,\n",
    "    'Seven of Spades': 7,\n",
    "    'Eight of Spades': 8,\n",
    "    'Nine of Spades': 9,\n",
    "    'Ten of Spades': 10,\n",
    "    'Jack of Spades': 10,\n",
    "    'Queen of Spades': 10,\n",
    "    'King of Spades': 10,\n",
    "    'Ace of Spades': 11,\n",
    "\n",
    "    'Two of Hearts': 2,\n",
    "    'Three of Hearts': 3,\n",
    "    'Four of Hearts': 4,\n",
    "    'Five of Hearts': 5,\n",
    "    'Six of Hearts': 6,\n",
    "    'Seven of Hearts': 7,\n",
    "    'Eight of Hearts': 8,\n",
    "    'Nine of Hearts': 9,\n",
    "    'Ten of Hearts': 10,\n",
    "    'Jack of Hearts': 10,\n",
    "    'Queen of Hearts': 10,\n",
    "    'King of Hearts': 10,\n",
    "    'Ace of Hearts': 11,\n",
    "\n",
    "    'Two of Diamonds': 2,\n",
    "    'Three of Diamonds': 3,\n",
    "    'Four of Diamonds': 4,\n",
    "    'Five of Diamonds': 5,\n",
    "    'Six of Diamonds': 6,\n",
    "    'Seven of Diamonds': 7,\n",
    "    'Eight of Diamonds': 8,\n",
    "    'Nine of Diamonds': 9,\n",
    "    'Ten of Diamonds': 10,\n",
    "    'Jack of Diamonds': 10,\n",
    "    'Queen of Diamonds': 10,\n",
    "    'King of Diamonds': 10,\n",
    "    'Ace of Diamonds': 11,\n",
    "}\n",
    "\n",
    "import random\n",
    "deck = list(cards.keys())\n",
    "random.shuffle(deck)\n",
    "\n",
    "# players initial cards\n",
    "card_one = cards[deck.pop()]\n",
    "card_two = cards[deck.pop()]\n",
    "\n",
    "hand_total = card_one + card_two\n",
    "print(f\"player: {hand_total}\")\n",
    "\n",
    "# dealers initial cards\n",
    "card_one = cards[deck.pop()]\n",
    "card_two = cards[deck.pop()]\n",
    "\n",
    "dealer_total = card_one + card_two\n",
    "print(f\"dealer: {dealer_total}\")"
   ],
   "metadata": {
    "collapsed": false,
    "pycharm": {
     "name": "#%%\n"
    }
   }
  },
  {
   "cell_type": "code",
   "execution_count": 22,
   "outputs": [
    {
     "name": "stdout",
     "output_type": "stream",
     "text": [
      "Player hand: 19\n",
      "Player hand: 19\n",
      "Dealer hand: 19\n",
      "You LOSE!\n"
     ]
    }
   ],
   "source": [
    "hand_over = False\n",
    "while not hand_over:\n",
    "    if hand_total == 21:\n",
    "        print(\"Blackjack!\")\n",
    "        hand_over = True\n",
    "    elif hand_total > 21:\n",
    "        print(\"Bust!\")\n",
    "        hand_over = True\n",
    "    else:\n",
    "        another_card = input(\"Would you like another card (Y/N)? \")\n",
    "        if another_card == \"Y\":\n",
    "            hand_total += cards[deck.pop()]\n",
    "        else:\n",
    "            hand_over = True\n",
    "        print(f\"Player hand: {hand_total}\")\n",
    "\n",
    "# dealer's decisions\n",
    "hand_over = False\n",
    "while not hand_over:\n",
    "    if dealer_total >= 17:\n",
    "        hand_over = True\n",
    "    else:\n",
    "        dealer_total += cards[deck.pop()]\n",
    "\n",
    "print(f\"Dealer hand: {dealer_total}\")\n",
    "\n",
    "if hand_total > dealer_total and dealer_total <= 21 and hand_total <= 21 \\\n",
    "    or hand_total == 21 and dealer_total != 21 \\\n",
    "    or hand_total <= 21 and dealer_total > 21:\n",
    "    print(\"You WIN!\")\n",
    "else:\n",
    "    print(\"You LOSE!\")"
   ],
   "metadata": {
    "collapsed": false,
    "pycharm": {
     "name": "#%%\n"
    }
   }
  },
  {
   "cell_type": "code",
   "execution_count": null,
   "outputs": [],
   "source": [],
   "metadata": {
    "collapsed": false,
    "pycharm": {
     "name": "#%%\n"
    }
   }
  }
 ],
 "metadata": {
  "kernelspec": {
   "display_name": "Python 3",
   "language": "python",
   "name": "python3"
  },
  "language_info": {
   "codemirror_mode": {
    "name": "ipython",
    "version": 2
   },
   "file_extension": ".py",
   "mimetype": "text/x-python",
   "name": "python",
   "nbconvert_exporter": "python",
   "pygments_lexer": "ipython2",
   "version": "2.7.6"
  }
 },
 "nbformat": 4,
 "nbformat_minor": 0
}