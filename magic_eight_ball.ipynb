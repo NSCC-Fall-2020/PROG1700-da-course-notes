{
 "cells": [
  {
   "cell_type": "code",
   "execution_count": 5,
   "metadata": {
    "collapsed": true
   },
   "outputs": [
    {
     "name": "stdout",
     "output_type": "stream",
     "text": [
      "Is it working yet?\n",
      "** Better not tell you now. **\n"
     ]
    }
   ],
   "source": [
    "import random\n",
    "\n",
    "ANSWERS = (\n",
    "    \"It is certain.\",\n",
    "    \"It is decidedly so.\",\n",
    "    \"Without a doubt.\",\n",
    "    \"Yes – definitely.\",\n",
    "    \"You may rely on it.\",\n",
    "    \"As I see it, yes.\",\n",
    "    \"Most likely.\",\n",
    "    \"Outlook good.\",\n",
    "    \"Yes.\",\n",
    "    \"Signs point to yes.\",\n",
    "    \"Reply hazy, try again.\",\n",
    "    \"Ask again later.\",\n",
    "    \"Better not tell you now.\",\n",
    "    \"Cannot predict now.\",\n",
    "    \"Concentrate and ask again.\",\n",
    "    \"Don't count on it.\",\n",
    "    \"My reply is no.\",\n",
    "    \"My sources say no.\",\n",
    "    \"Outlook not so good.\",\n",
    "    \"Very doubtful.\",\n",
    ")\n",
    "\n",
    "# loop:\n",
    "while True:\n",
    "\n",
    "    # ask the user to enter a question\n",
    "    # note: what should be done with the question?\n",
    "    # note: when the user is done asking questions,\n",
    "    # they will type in 'done' to end the program\n",
    "    question = input(\"Ask the almighty 8-ball a question ('done' to quit): \")\n",
    "    if question == \"done\":\n",
    "        break\n",
    "    else:\n",
    "        print(question)\n",
    "\n",
    "    # generate a random answer from the list of answers\n",
    "    #answer = random.randint(0,len(ANSWERS)-1)\n",
    "    #answer = random.randrange(len(ANSWERS))\n",
    "    #random.shuffle(ANSWERS)\n",
    "    answer = random.choice(ANSWERS)\n",
    "\n",
    "    # display it to the user\n",
    "    print(\"** \", end='')\n",
    "    print(answer, end='')\n",
    "    print(\" **\")"
   ]
  },
  {
   "cell_type": "code",
   "execution_count": null,
   "outputs": [],
   "source": [],
   "metadata": {
    "collapsed": false,
    "pycharm": {
     "name": "#%%\n"
    }
   }
  }
 ],
 "metadata": {
  "kernelspec": {
   "display_name": "Python 3",
   "language": "python",
   "name": "python3"
  },
  "language_info": {
   "codemirror_mode": {
    "name": "ipython",
    "version": 2
   },
   "file_extension": ".py",
   "mimetype": "text/x-python",
   "name": "python",
   "nbconvert_exporter": "python",
   "pygments_lexer": "ipython2",
   "version": "2.7.6"
  }
 },
 "nbformat": 4,
 "nbformat_minor": 0
}